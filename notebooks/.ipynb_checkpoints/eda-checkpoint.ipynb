{
 "cells": [
  {
   "cell_type": "markdown",
   "id": "b9cde3cd-f070-4f30-b918-ed9b1cbfe7f0",
   "metadata": {},
   "source": [
    "# Obesity Detection\n",
    "\n",
    "## About Data\n",
    "\n",
    "This dataset contains information about the obesity classification of individuals. The data was collected from a variety of sources, including medical records, surveys, and self-reported data. The goal is to analyze and classify individuals into different obesity categories using the provided data.\n",
    "\n",
    "## Source\n",
    "\n",
    "This data is available in Kaggele in the following link:\n",
    "> https://www.kaggle.com/datasets/sujithmandala/obesity-classification-dataset/data\n",
    "\n",
    "\n",
    "## Data Dictionary\n",
    "\n",
    "* **ID**: A unique identifier for each individual. It contains numeric data.\n",
    "* **Age**: The age of the individual. It contains numeric data.\n",
    "* **Gender**: The gender of the individual. It contains categotical binary data.(Male, Female)\n",
    "* **Height**: The height of the individual in centimeters(cm). It contains numeric data.\n",
    "* **Weight**: The weight of the individual in kilograms(KG.). It contains numeric data.\n",
    "* **BMI**: The body mass index of the individual, calculated as weight divided by height squared. It contains numeric data.\n",
    "* **Label**: The obesity classification of the individual. This is the target variable. (Normal Weight, Overweight, Obese, Underweight)\n",
    "\n",
    "## Problem Statement\n",
    "\n",
    "1. **Exploratory Data Analysis(EDA)**: "
   ]
  },
  {
   "cell_type": "code",
   "execution_count": null,
   "id": "cfba872b-2a1e-42e2-8607-48ae97ac2e11",
   "metadata": {},
   "outputs": [],
   "source": []
  },
  {
   "cell_type": "code",
   "execution_count": null,
   "id": "b26ca2e7-295b-4646-9c33-7d98a3ce43a6",
   "metadata": {},
   "outputs": [],
   "source": []
  },
  {
   "cell_type": "code",
   "execution_count": null,
   "id": "7ccc82cd-2443-4abf-b876-e5f325468429",
   "metadata": {},
   "outputs": [],
   "source": []
  },
  {
   "cell_type": "code",
   "execution_count": null,
   "id": "b4d4fe55-67bb-4c85-8c57-b97fb5792d91",
   "metadata": {},
   "outputs": [],
   "source": []
  }
 ],
 "metadata": {
  "kernelspec": {
   "display_name": "Python 3 (ipykernel)",
   "language": "python",
   "name": "python3"
  },
  "language_info": {
   "codemirror_mode": {
    "name": "ipython",
    "version": 3
   },
   "file_extension": ".py",
   "mimetype": "text/x-python",
   "name": "python",
   "nbconvert_exporter": "python",
   "pygments_lexer": "ipython3",
   "version": "3.11.9"
  }
 },
 "nbformat": 4,
 "nbformat_minor": 5
}
