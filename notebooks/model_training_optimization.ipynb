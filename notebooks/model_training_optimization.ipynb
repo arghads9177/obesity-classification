{
 "cells": [
  {
   "cell_type": "markdown",
   "id": "d4a5ead4-71de-489d-9c93-1acb8dd7e554",
   "metadata": {},
   "source": [
    "# Obesity Detection\n",
    "\n",
    "## About Data\n",
    "\n",
    "This dataset contains information about the obesity classification of individuals. The data was collected from a variety of sources, including medical records, surveys, and self-reported data. The goal is to analyze and classify individuals into different obesity categories using the provided data.\n",
    "\n",
    "## Source\n",
    "\n",
    "This data is available in Kaggele in the following link:\n",
    "> https://www.kaggle.com/datasets/sujithmandala/obesity-classification-dataset/data\n",
    "\n",
    "\n",
    "## Data Dictionary\n",
    "\n",
    "* **ID**: A unique identifier for each individual. It contains numeric data.\n",
    "* **Age**: The age of the individual. It contains numeric data.\n",
    "* **Gender**: The gender of the individual. It contains categotical binary data.(Male, Female)\n",
    "* **Height**: The height of the individual in centimeters(cm). It contains numeric data.\n",
    "* **Weight**: The weight of the individual in kilograms(KG.). It contains numeric data.\n",
    "* **BMI**: The body mass index of the individual, calculated as weight divided by height squared. It contains numeric data.\n",
    "* **Label**: The obesity classification of the individual. This is the target variable. (Normal Weight, Overweight, Obese, Underweight)\n",
    "\n",
    "## Problem Statement\n",
    "\n",
    "1. **Model Training**: The objective of model training is to train a machine learning model with this dataset so that it can be used to predict the class of obesity of a person.\n",
    "2. **Model Evaluation**: The objective of model evaluation is to evaluate the performance of the trained model using different metrics such as accuracy, precision, recall and F1 score.\n",
    "3. **Model Optimization**: The objective of model optimization is to fined the optimal model by tuning the hyperparameter of the model."
   ]
  },
  {
   "cell_type": "markdown",
   "id": "b16a5c8b-8540-47e4-9031-48a35c53a711",
   "metadata": {},
   "source": [
    "### Load Libraries"
   ]
  },
  {
   "cell_type": "code",
   "execution_count": 54,
   "id": "a5afddfe-f26b-4579-b140-b5ce4d6ebcfb",
   "metadata": {},
   "outputs": [],
   "source": [
    "# General\n",
    "import pandas as pd\n",
    "import numpy as np\n",
    "import warnings\n",
    "import os\n",
    "import pickle\n",
    "\n",
    "# Preprocessing\n",
    "from sklearn.preprocessing import StandardScaler, MinMaxScaler\n",
    "from sklearn.model_selection import train_test_split\n",
    "\n",
    "# Models\n",
    "from sklearn.tree import DecisionTreeClassifier\n",
    "\n",
    "# Evaluation\n",
    "from sklearn.metrics import accuracy_score, precision_score, recall_score, f1_score\n",
    "\n",
    "# Hyperparameter tuning\n",
    "from sklearn.model_selection import GridSearchCV"
   ]
  },
  {
   "cell_type": "markdown",
   "id": "48110393-ac08-4544-b5af-4ecd62df93f0",
   "metadata": {},
   "source": [
    "### Settings"
   ]
  },
  {
   "cell_type": "code",
   "execution_count": 57,
   "id": "a15ad7c4-72c9-4688-a51c-266951d2abd7",
   "metadata": {},
   "outputs": [],
   "source": [
    "# Warning\n",
    "warnings.filterwarnings(\"ignore\")\n",
    "\n",
    "# Data file path\n",
    "data_path = \"../data\"\n",
    "file_path = os.path.join(data_path, \"obesity_classification_encoded.csv\")\n",
    "\n",
    "# Model path\n",
    "model_path = \"../models\""
   ]
  },
  {
   "cell_type": "markdown",
   "id": "68594348-acf0-4dbc-af43-172abbe171ed",
   "metadata": {},
   "source": [
    "### Load Data"
   ]
  },
  {
   "cell_type": "code",
   "execution_count": 4,
   "id": "6adaf2f6-7e03-4fba-9d8b-2b17bed02891",
   "metadata": {},
   "outputs": [],
   "source": [
    "df = pd.read_csv(file_path)"
   ]
  },
  {
   "cell_type": "code",
   "execution_count": 5,
   "id": "379a0ec3-e0b6-4605-b9cc-b2c120e887db",
   "metadata": {},
   "outputs": [
    {
     "data": {
      "text/html": [
       "<div>\n",
       "<style scoped>\n",
       "    .dataframe tbody tr th:only-of-type {\n",
       "        vertical-align: middle;\n",
       "    }\n",
       "\n",
       "    .dataframe tbody tr th {\n",
       "        vertical-align: top;\n",
       "    }\n",
       "\n",
       "    .dataframe thead th {\n",
       "        text-align: right;\n",
       "    }\n",
       "</style>\n",
       "<table border=\"1\" class=\"dataframe\">\n",
       "  <thead>\n",
       "    <tr style=\"text-align: right;\">\n",
       "      <th></th>\n",
       "      <th>Age</th>\n",
       "      <th>Gender</th>\n",
       "      <th>Height</th>\n",
       "      <th>Weight</th>\n",
       "      <th>BMI</th>\n",
       "      <th>Label</th>\n",
       "    </tr>\n",
       "  </thead>\n",
       "  <tbody>\n",
       "    <tr>\n",
       "      <th>0</th>\n",
       "      <td>25</td>\n",
       "      <td>1</td>\n",
       "      <td>175</td>\n",
       "      <td>80</td>\n",
       "      <td>25.3</td>\n",
       "      <td>1</td>\n",
       "    </tr>\n",
       "    <tr>\n",
       "      <th>1</th>\n",
       "      <td>30</td>\n",
       "      <td>0</td>\n",
       "      <td>160</td>\n",
       "      <td>60</td>\n",
       "      <td>22.5</td>\n",
       "      <td>1</td>\n",
       "    </tr>\n",
       "    <tr>\n",
       "      <th>2</th>\n",
       "      <td>35</td>\n",
       "      <td>1</td>\n",
       "      <td>180</td>\n",
       "      <td>90</td>\n",
       "      <td>27.3</td>\n",
       "      <td>2</td>\n",
       "    </tr>\n",
       "    <tr>\n",
       "      <th>3</th>\n",
       "      <td>40</td>\n",
       "      <td>0</td>\n",
       "      <td>150</td>\n",
       "      <td>50</td>\n",
       "      <td>20.0</td>\n",
       "      <td>0</td>\n",
       "    </tr>\n",
       "    <tr>\n",
       "      <th>4</th>\n",
       "      <td>45</td>\n",
       "      <td>1</td>\n",
       "      <td>190</td>\n",
       "      <td>100</td>\n",
       "      <td>31.2</td>\n",
       "      <td>3</td>\n",
       "    </tr>\n",
       "  </tbody>\n",
       "</table>\n",
       "</div>"
      ],
      "text/plain": [
       "   Age  Gender  Height  Weight   BMI  Label\n",
       "0   25       1     175      80  25.3      1\n",
       "1   30       0     160      60  22.5      1\n",
       "2   35       1     180      90  27.3      2\n",
       "3   40       0     150      50  20.0      0\n",
       "4   45       1     190     100  31.2      3"
      ]
     },
     "execution_count": 5,
     "metadata": {},
     "output_type": "execute_result"
    }
   ],
   "source": [
    "# Check Data\n",
    "df.head()"
   ]
  },
  {
   "cell_type": "code",
   "execution_count": 6,
   "id": "4bd84e48-c54e-47fd-aad9-df923e46c1bf",
   "metadata": {},
   "outputs": [],
   "source": [
    "# Separate Input and Target Features\n",
    "X = df.iloc[:, :-1]\n",
    "y = df.iloc[:, -1]"
   ]
  },
  {
   "cell_type": "code",
   "execution_count": 15,
   "id": "13549057-6275-4a04-9a3d-4cae3586e2a1",
   "metadata": {},
   "outputs": [],
   "source": [
    "# Split Train and Test data\n",
    "X_train,X_test, y_train,y_test = train_test_split(X, y, test_size = 0.3, random_state=42)"
   ]
  },
  {
   "cell_type": "markdown",
   "id": "e5db5d8d-6736-4df4-82c5-a2389fa744fa",
   "metadata": {},
   "source": [
    "### Scaling the Data"
   ]
  },
  {
   "cell_type": "code",
   "execution_count": 16,
   "id": "3f6a1418-4d4f-4113-a018-60e28faff389",
   "metadata": {},
   "outputs": [],
   "source": [
    "# Scale the data to standardize it\n",
    "scaler = StandardScaler()\n",
    "X_train_s = scaler.fit_transform(X_train)\n",
    "X_test_s = scaler.transform(X_test)"
   ]
  },
  {
   "cell_type": "code",
   "execution_count": 49,
   "id": "6d8c3ad5-9a40-4e84-b8c2-dd3ff8c9d64b",
   "metadata": {},
   "outputs": [],
   "source": [
    "# Train the model and evaluate using metrics\n",
    "def train_evaluate(model):\n",
    "    # Train the model\n",
    "    model.fit(X_train_s, y_train)\n",
    "\n",
    "    # Predict train data\n",
    "    y_train_pred = model.predict(X_train_s)\n",
    "    # predict test data\n",
    "    y_test_pred = model.predict(X_test_s)\n",
    "\n",
    "    # Print train evaluation metrics\n",
    "    print(\"=\" * 70)\n",
    "    print(\"EDVALUATION METRICS ON TRAIN DATA\")\n",
    "    print(\"=\" * 70)\n",
    "    print(f\"Accuracy Score: {accuracy_score(y_train, y_train_pred): .2f}\")\n",
    "    print(f\"Precision Score: {precision_score(y_train, y_train_pred, average='macro'): .2f}\")\n",
    "    print(f\"Recall Score: {recall_score(y_train, y_train_pred, average='macro'): .2f}\")\n",
    "    print(f\"F1 Score: {f1_score(y_train, y_train_pred, average='macro'): .2f}\")\n",
    "    # Print test evaluation metrics\n",
    "    print(\"=\" * 70)\n",
    "    print(\"EDVALUATION METRICS ON TEST DATA\")\n",
    "    print(\"=\" * 70)\n",
    "    print(f\"Accuracy Score: {accuracy_score(y_test, y_test_pred): .2f}\")\n",
    "    print(f\"Precision Score: {precision_score(y_test, y_test_pred, average='macro'): .2f}\")\n",
    "    print(f\"Recall Score: {recall_score(y_test, y_test_pred, average='macro'): .2f}\")\n",
    "    print(f\"F1 Score: {f1_score(y_test, y_test_pred, average='macro'): .2f}\")\n",
    "    "
   ]
  },
  {
   "cell_type": "code",
   "execution_count": 50,
   "id": "89bc1107-e1dc-4bbf-b538-0153d54d846d",
   "metadata": {},
   "outputs": [
    {
     "name": "stdout",
     "output_type": "stream",
     "text": [
      "======================================================================\n",
      "EDVALUATION METRICS ON TRAIN DATA\n",
      "======================================================================\n",
      "Accuracy Score:  1.00\n",
      "Precision Score:  1.00\n",
      "Recall Score:  1.00\n",
      "F1 Score:  1.00\n",
      "======================================================================\n",
      "EDVALUATION METRICS ON TEST DATA\n",
      "======================================================================\n",
      "Accuracy Score:  1.00\n",
      "Precision Score:  1.00\n",
      "Recall Score:  1.00\n",
      "F1 Score:  1.00\n"
     ]
    }
   ],
   "source": [
    "# Train the Decision Tree model with train dataset and evaluate the model\n",
    "dt = DecisionTreeClassifier()\n",
    "train_evaluate(dt)"
   ]
  },
  {
   "cell_type": "code",
   "execution_count": 53,
   "id": "64b4511e-b49a-4d0a-88dc-9f334d120898",
   "metadata": {},
   "outputs": [
    {
     "name": "stdout",
     "output_type": "stream",
     "text": [
      "[2]\n"
     ]
    }
   ],
   "source": [
    "test = {\n",
    "        \"Age\": 46,\n",
    "        \"Gender\": 1,\n",
    "        \"Height\": 184,\n",
    "        \"Weight\": 87,\n",
    "        \"BMI\": 28.1\n",
    "}\n",
    "test_arr = np.array([[test[\"Age\"], test[\"Gender\"], test[\"Height\"], test[\"Weight\"], test[\"BMI\"]]])\n",
    "tscaled = scaler.transform(test_arr)\n",
    "p = dt.predict(tscaled)\n",
    "print(p)"
   ]
  },
  {
   "cell_type": "markdown",
   "id": "c0d48585-213b-4f39-adf8-4f1138381c2f",
   "metadata": {},
   "source": [
    "### Conclusion\n",
    "\n",
    "* All metrics of this model is 100%."
   ]
  },
  {
   "cell_type": "markdown",
   "id": "8e3288be-d3a4-4e5e-8fbc-b7b9eba973aa",
   "metadata": {},
   "source": [
    "### Save the Model"
   ]
  },
  {
   "cell_type": "code",
   "execution_count": 59,
   "id": "fbdbb7a4-ed81-4b8b-a617-809f650c5746",
   "metadata": {},
   "outputs": [],
   "source": [
    "model_file = os.path.join(model_path, \"obesity_detector.pkl\")\n",
    "with open(model_file, \"wb\") as file_model:\n",
    "    pickle.dump(dt, file_model)"
   ]
  },
  {
   "cell_type": "code",
   "execution_count": null,
   "id": "224842ce-05e2-47e3-8ba5-affe9f59e5a1",
   "metadata": {},
   "outputs": [],
   "source": []
  }
 ],
 "metadata": {
  "kernelspec": {
   "display_name": "Python 3 (ipykernel)",
   "language": "python",
   "name": "python3"
  },
  "language_info": {
   "codemirror_mode": {
    "name": "ipython",
    "version": 3
   },
   "file_extension": ".py",
   "mimetype": "text/x-python",
   "name": "python",
   "nbconvert_exporter": "python",
   "pygments_lexer": "ipython3",
   "version": "3.11.9"
  }
 },
 "nbformat": 4,
 "nbformat_minor": 5
}
